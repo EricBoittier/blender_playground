{
 "cells": [
  {
   "cell_type": "code",
   "execution_count": 1,
   "metadata": {
    "collapsed": true
   },
   "outputs": [
    {
     "name": "stdout",
     "output_type": "stream",
     "text": [
      "Molecule with hydrogens written to 'molecule_with_hydrogens.pdb'\n"
     ]
    }
   ],
   "source": [
    "import rdkit\n",
    "from rdkit import Chem\n",
    "from rdkit.Chem import AllChem\n",
    "\n",
    "# Example molecule\n",
    "smiles = 'C1=CC=CC=C1C(=O)ONC2=CC=CC=C2'\n",
    "molecule = Chem.MolFromSmiles(smiles)\n",
    "\n",
    "# Add hydrogens\n",
    "molecule_with_hydrogens = Chem.AddHs(molecule)\n",
    "\n",
    "# Optionally, perform a geometry optimization (here using MMFF94)\n",
    "AllChem.EmbedMolecule(molecule_with_hydrogens)\n",
    "AllChem.MMFFOptimizeMolecule(molecule_with_hydrogens)\n",
    "\n",
    "# Write to a PDB file\n",
    "pdb_filename = 'molecule_with_hydrogens.pdb'\n",
    "writer = Chem.PDBWriter(pdb_filename)\n",
    "writer.write(molecule_with_hydrogens)\n",
    "writer.close()\n",
    "\n",
    "print(f\"Molecule with hydrogens written to '{pdb_filename}'\")\n"
   ]
  },
  {
   "cell_type": "code",
   "execution_count": 5,
   "outputs": [],
   "source": [],
   "metadata": {
    "collapsed": false
   }
  },
  {
   "cell_type": "code",
   "execution_count": null,
   "outputs": [],
   "source": [],
   "metadata": {
    "collapsed": false
   }
  }
 ],
 "metadata": {
  "kernelspec": {
   "name": "jax",
   "language": "python",
   "display_name": "jax"
  },
  "language_info": {
   "codemirror_mode": {
    "name": "ipython",
    "version": 2
   },
   "file_extension": ".py",
   "mimetype": "text/x-python",
   "name": "python",
   "nbconvert_exporter": "python",
   "pygments_lexer": "ipython2",
   "version": "2.7.6"
  }
 },
 "nbformat": 4,
 "nbformat_minor": 0
}
