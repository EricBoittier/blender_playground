{
 "cells": [
  {
   "cell_type": "code",
   "execution_count": 52,
   "metadata": {
    "collapsed": true
   },
   "outputs": [
    {
     "name": "stdout",
     "output_type": "stream",
     "text": [
      "The autoreload extension is already loaded. To reload it, use:\n",
      "  %reload_ext autoreload\n",
      "<bpy_struct, Object(\"molecule_with_hydrogens.pdb\") at 0x306d5be08>\n"
     ]
    },
    {
     "data": {
      "text/plain": "{'FINISHED'}"
     },
     "execution_count": 52,
     "metadata": {},
     "output_type": "execute_result"
    }
   ],
   "source": [
    "# auto reload modules in ipython\n",
    "%load_ext autoreload\n",
    "%autoreload 2\n",
    "\n",
    "import blender_plots as bplt\n",
    "import MolecularNodes as mn\n",
    "import numpy as np\n",
    "import matplotlib.pyplot as plt\n",
    "from matplotlib import cm\n",
    "import bpy\n",
    "from pathlib import Path\n",
    "\n",
    "from main import *\n",
    "from pathlib import Path\n",
    "import pandas as pd\n",
    "\n",
    "remove_all()\n",
    "\n",
    "style = \"ball_and_stick\"\n",
    "pdb_path = \"molecule_with_hydrogens.pdb\"\n",
    "mol = mn.load.molecule_local(pdb_path, pdb_path, default_style=0, include_bonds=True)\n",
    "print(mol)\n",
    "#  scale molecule\n",
    "bpy.ops.object.select_all(action=\"DESELECT\")\n",
    "bpy.data.objects[pdb_path].select_set(True)\n",
    "scale = 5\n",
    "bpy.ops.transform.resize(value=(scale, scale, scale))\n",
    "\n",
    "# add cube\n",
    "# bpy.ops.mesh.primitive_cube_add(size=1, location=(0, 0, 0))\n",
    "# bpy.data.objects[\"Cube\"].scale = (10, 10, 10)\n",
    "\n",
    "\n",
    "add_camera(orthoscale=1)\n",
    "\n",
    "# select the entire molecule in the frame\n",
    "bpy.ops.object.select_all(action=\"DESELECT\")\n",
    "bpy.data.objects[pdb_path].select_set(True)\n",
    "camera_to_points()\n",
    "\n",
    "# print the bounding box of the points\n",
    "bpy.ops.object.select_all(action=\"DESELECT\")\n",
    "bpy.data.objects[pdb_path].select_set(True)\n",
    "bpy.ops.object.origin_set(type=\"ORIGIN_GEOMETRY\", center=\"BOUNDS\")\n",
    "bpy.ops.object.select_all(action=\"DESELECT\")\n",
    "# bpy.ops.view3d.camera_to_view_selected()\n",
    "\n"
   ]
  },
  {
   "cell_type": "code",
   "execution_count": 4,
   "outputs": [],
   "source": [
    "?mn.load.molecule_local"
   ],
   "metadata": {
    "collapsed": false
   }
  },
  {
   "cell_type": "code",
   "execution_count": 38,
   "outputs": [],
   "source": [],
   "metadata": {
    "collapsed": false
   }
  },
  {
   "cell_type": "code",
   "execution_count": 38,
   "outputs": [],
   "source": [],
   "metadata": {
    "collapsed": false
   }
  },
  {
   "cell_type": "code",
   "execution_count": null,
   "outputs": [],
   "source": [],
   "metadata": {
    "collapsed": false
   }
  }
 ],
 "metadata": {
  "kernelspec": {
   "name": "blender",
   "language": "python",
   "display_name": "blender"
  },
  "language_info": {
   "codemirror_mode": {
    "name": "ipython",
    "version": 2
   },
   "file_extension": ".py",
   "mimetype": "text/x-python",
   "name": "python",
   "nbconvert_exporter": "python",
   "pygments_lexer": "ipython2",
   "version": "2.7.6"
  }
 },
 "nbformat": 4,
 "nbformat_minor": 0
}
