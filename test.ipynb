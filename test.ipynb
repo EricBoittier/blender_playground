{
 "cells": [
  {
   "cell_type": "code",
   "execution_count": 1,
   "metadata": {
    "collapsed": true
   },
   "outputs": [],
   "source": [
    "import sys"
   ]
  },
  {
   "cell_type": "code",
   "execution_count": 2,
   "outputs": [],
   "source": [
    "import numpy"
   ],
   "metadata": {
    "collapsed": false
   }
  },
  {
   "cell_type": "code",
   "execution_count": 3,
   "outputs": [],
   "source": [
    "import matplotlib"
   ],
   "metadata": {
    "collapsed": false
   }
  },
  {
   "cell_type": "code",
   "execution_count": 4,
   "outputs": [],
   "source": [
    "import bpy"
   ],
   "metadata": {
    "collapsed": false
   }
  },
  {
   "cell_type": "code",
   "execution_count": 5,
   "outputs": [
    {
     "name": "stdout",
     "output_type": "stream",
     "text": [
      "(2805,)\n",
      "(2805, 3)\n",
      "-0.014483500272035599 0.01615884155035019\n",
      "-2.6304002 2.795992\n",
      "[ 0.00678759  0.00672449  0.0066078  ... -0.00663939 -0.00665385\n",
      " -0.00662998]\n",
      "[[-2.6304002 -2.6304002 -2.495775 ]\n",
      " [-2.6304002 -2.6304002 -2.3193827]\n",
      " [-2.6304002 -2.6304002 -2.1429904]\n",
      " ...\n",
      " [ 2.6613667  2.6613667  2.4432075]\n",
      " [ 2.6613667  2.6613667  2.6195998]\n",
      " [ 2.6613667  2.6613667  2.795992 ]]\n"
     ]
    }
   ],
   "source": [
    "from main import *\n",
    "from pathlib import Path\n",
    "import pandas as pd"
   ],
   "metadata": {
    "collapsed": false
   }
  },
  {
   "cell_type": "code",
   "execution_count": 99,
   "outputs": [],
   "source": [
    "# This is ...\n",
    "def minmax(df):\n",
    "    return df.apply(lambda x: (x - x.min()) / (x.max() - x.min()))\n",
    "\n",
    "def color(df):\n",
    "    # convert esp to colors using red to blue colormap\n",
    "    cmap = cm.get_cmap('terrain_r')\n",
    "    norm = plt.Normalize(vmin=df.min(), vmax=df.max())\n",
    "    # norm = plt.Normalize(vmin=-0.01, vmax=0.01)\n",
    "    return cmap(norm(df))\n"
   ],
   "metadata": {
    "collapsed": false
   }
  },
  {
   "cell_type": "code",
   "execution_count": 99,
   "outputs": [],
   "source": [],
   "metadata": {
    "collapsed": false
   }
  },
  {
   "cell_type": "code",
   "execution_count": 100,
   "outputs": [
    {
     "name": "stderr",
     "output_type": "stream",
     "text": [
      "/var/folders/wy/kcg4xf054_v1h2zwbhjb2g_w0000gn/T/ipykernel_45615/3378388712.py:7: MatplotlibDeprecationWarning: The get_cmap function was deprecated in Matplotlib 3.7 and will be removed two minor releases later. Use ``matplotlib.colormaps[name]`` or ``matplotlib.colormaps.get_cmap(obj)`` instead.\n",
      "  cmap = cm.get_cmap('terrain_r')\n"
     ]
    }
   ],
   "source": [
    "N = 10\n",
    "for i in range(1):\n",
    "        rand = pd.DataFrame(np.random.random((N,3))*10)\n",
    "\n",
    "        remove_all()\n",
    "        bplt.Scatter(\n",
    "                rand,\n",
    "                color=color(rand[0]),\n",
    "                marker_type=\"uv_spheres\",\n",
    "                radius=0.1235,\n",
    "                name=\"points\",\n",
    "            )\n",
    "        add_camera()\n",
    "        camera_to_points()\n",
    "        render(i)"
   ],
   "metadata": {
    "collapsed": false
   }
  },
  {
   "cell_type": "code",
   "execution_count": 101,
   "outputs": [
    {
     "data": {
      "text/plain": "[PosixPath('/Users/ericboittier/Downloads/test-47.png'),\n PosixPath('/Users/ericboittier/Downloads/test-53.png'),\n PosixPath('/Users/ericboittier/Downloads/test-84.png'),\n PosixPath('/Users/ericboittier/Downloads/test-90.png'),\n PosixPath('/Users/ericboittier/Downloads/test-91.png'),\n PosixPath('/Users/ericboittier/Downloads/test-85.png'),\n PosixPath('/Users/ericboittier/Downloads/test-52.png'),\n PosixPath('/Users/ericboittier/Downloads/test-46.png'),\n PosixPath('/Users/ericboittier/Downloads/test-50.png'),\n PosixPath('/Users/ericboittier/Downloads/test-44.png'),\n PosixPath('/Users/ericboittier/Downloads/test-78.png'),\n PosixPath('/Users/ericboittier/Downloads/test-93.png'),\n PosixPath('/Users/ericboittier/Downloads/test-87.png'),\n PosixPath('/Users/ericboittier/Downloads/test-86.png'),\n PosixPath('/Users/ericboittier/Downloads/test-92.png'),\n PosixPath('/Users/ericboittier/Downloads/test-79.png'),\n PosixPath('/Users/ericboittier/Downloads/test-45.png'),\n PosixPath('/Users/ericboittier/Downloads/test-51.png'),\n PosixPath('/Users/ericboittier/Downloads/test-69.png'),\n PosixPath('/Users/ericboittier/Downloads/test-55.png'),\n PosixPath('/Users/ericboittier/Downloads/test-41.png'),\n PosixPath('/Users/ericboittier/Downloads/test-96.png'),\n PosixPath('/Users/ericboittier/Downloads/test-82.png'),\n PosixPath('/Users/ericboittier/Downloads/test-83.png'),\n PosixPath('/Users/ericboittier/Downloads/test-97.png'),\n PosixPath('/Users/ericboittier/Downloads/test-40.png'),\n PosixPath('/Users/ericboittier/Downloads/test-54.png'),\n PosixPath('/Users/ericboittier/Downloads/test-68.png'),\n PosixPath('/Users/ericboittier/Downloads/test-42.png'),\n PosixPath('/Users/ericboittier/Downloads/test-56.png'),\n PosixPath('/Users/ericboittier/Downloads/test-81.png'),\n PosixPath('/Users/ericboittier/Downloads/test-95.png'),\n PosixPath('/Users/ericboittier/Downloads/test-94.png'),\n PosixPath('/Users/ericboittier/Downloads/test-80.png'),\n PosixPath('/Users/ericboittier/Downloads/test-57.png'),\n PosixPath('/Users/ericboittier/Downloads/test-43.png'),\n PosixPath('/Users/ericboittier/Downloads/test-24.png'),\n PosixPath('/Users/ericboittier/Downloads/test-30.png'),\n PosixPath('/Users/ericboittier/Downloads/test-18.png'),\n PosixPath('/Users/ericboittier/Downloads/test-8.png'),\n PosixPath('/Users/ericboittier/Downloads/test-9.png'),\n PosixPath('/Users/ericboittier/Downloads/test-19.png'),\n PosixPath('/Users/ericboittier/Downloads/test-31.png'),\n PosixPath('/Users/ericboittier/Downloads/test-25.png'),\n PosixPath('/Users/ericboittier/Downloads/test-33.png'),\n PosixPath('/Users/ericboittier/Downloads/test-27.png'),\n PosixPath('/Users/ericboittier/Downloads/test-26.png'),\n PosixPath('/Users/ericboittier/Downloads/test-32.png'),\n PosixPath('/Users/ericboittier/Downloads/test-36.png'),\n PosixPath('/Users/ericboittier/Downloads/test-22.png'),\n PosixPath('/Users/ericboittier/Downloads/test-23.png'),\n PosixPath('/Users/ericboittier/Downloads/test-37.png'),\n PosixPath('/Users/ericboittier/Downloads/test-21.png'),\n PosixPath('/Users/ericboittier/Downloads/test-35.png'),\n PosixPath('/Users/ericboittier/Downloads/test-34.png'),\n PosixPath('/Users/ericboittier/Downloads/test-20.png'),\n PosixPath('/Users/ericboittier/Downloads/test-11.png'),\n PosixPath('/Users/ericboittier/Downloads/test-39.png'),\n PosixPath('/Users/ericboittier/Downloads/test-1.png'),\n PosixPath('/Users/ericboittier/Downloads/test-0.png'),\n PosixPath('/Users/ericboittier/Downloads/test.png'),\n PosixPath('/Users/ericboittier/Downloads/test-38.png'),\n PosixPath('/Users/ericboittier/Downloads/test-10.png'),\n PosixPath('/Users/ericboittier/Downloads/test-12.png'),\n PosixPath('/Users/ericboittier/Downloads/test-2.png'),\n PosixPath('/Users/ericboittier/Downloads/test-3.png'),\n PosixPath('/Users/ericboittier/Downloads/test-13.png'),\n PosixPath('/Users/ericboittier/Downloads/test-17.png'),\n PosixPath('/Users/ericboittier/Downloads/test-7.png'),\n PosixPath('/Users/ericboittier/Downloads/test-6.png'),\n PosixPath('/Users/ericboittier/Downloads/test-16.png'),\n PosixPath('/Users/ericboittier/Downloads/test-28.png'),\n PosixPath('/Users/ericboittier/Downloads/test-14.png'),\n PosixPath('/Users/ericboittier/Downloads/test-4.png'),\n PosixPath('/Users/ericboittier/Downloads/test-5.png'),\n PosixPath('/Users/ericboittier/Downloads/test-15.png'),\n PosixPath('/Users/ericboittier/Downloads/test-29.png'),\n PosixPath('/Users/ericboittier/Downloads/test-66.png'),\n PosixPath('/Users/ericboittier/Downloads/test-72.png'),\n PosixPath('/Users/ericboittier/Downloads/test-99.png'),\n PosixPath('/Users/ericboittier/Downloads/test-98.png'),\n PosixPath('/Users/ericboittier/Downloads/test-73.png'),\n PosixPath('/Users/ericboittier/Downloads/test-67.png'),\n PosixPath('/Users/ericboittier/Downloads/test-71.png'),\n PosixPath('/Users/ericboittier/Downloads/test-65.png'),\n PosixPath('/Users/ericboittier/Downloads/test-59.png'),\n PosixPath('/Users/ericboittier/Downloads/test-58.png'),\n PosixPath('/Users/ericboittier/Downloads/test-64.png'),\n PosixPath('/Users/ericboittier/Downloads/test-70.png'),\n PosixPath('/Users/ericboittier/Downloads/test-48.png'),\n PosixPath('/Users/ericboittier/Downloads/test-74.png'),\n PosixPath('/Users/ericboittier/Downloads/test-60.png'),\n PosixPath('/Users/ericboittier/Downloads/test-61.png'),\n PosixPath('/Users/ericboittier/Downloads/test-75.png'),\n PosixPath('/Users/ericboittier/Downloads/test-49.png'),\n PosixPath('/Users/ericboittier/Downloads/test-63.png'),\n PosixPath('/Users/ericboittier/Downloads/test-77.png'),\n PosixPath('/Users/ericboittier/Downloads/test-88.png'),\n PosixPath('/Users/ericboittier/Downloads/test-89.png'),\n PosixPath('/Users/ericboittier/Downloads/test-76.png'),\n PosixPath('/Users/ericboittier/Downloads/test-62.png')]"
     },
     "execution_count": 101,
     "metadata": {},
     "output_type": "execute_result"
    }
   ],
   "source": [
    "downloads = Path(\"/Users/ericboittier/Downloads/\")\n",
    "\n",
    "filenames = list(downloads.glob(\"test*png\"))\n",
    "filenames"
   ],
   "metadata": {
    "collapsed": false
   }
  },
  {
   "cell_type": "markdown",
   "source": [],
   "metadata": {
    "collapsed": false
   }
  },
  {
   "cell_type": "code",
   "execution_count": 102,
   "outputs": [
    {
     "name": "stderr",
     "output_type": "stream",
     "text": [
      "/var/folders/wy/kcg4xf054_v1h2zwbhjb2g_w0000gn/T/ipykernel_45615/4233054693.py:5: DeprecationWarning: Starting with ImageIO v3 the behavior of this function will switch to that of iio.v3.imread. To keep the current behavior (and make this warning disappear) use `import imageio.v2 as imageio` or call `imageio.v2.imread` directly.\n",
      "  image = imageio.imread(filename)\n"
     ]
    }
   ],
   "source": [
    "import imageio\n",
    "with imageio.get_writer(downloads / 'movie.gif', mode='I') as writer:\n",
    "    for filename in filenames:\n",
    "\n",
    "        image = imageio.imread(filename)\n",
    "        for i in range(60):\n",
    "            writer.append_data(image)"
   ],
   "metadata": {
    "collapsed": false
   }
  },
  {
   "cell_type": "code",
   "execution_count": 103,
   "outputs": [
    {
     "data": {
      "text/plain": "PosixPath('/Users/ericboittier/Downloads/movie.gif')"
     },
     "execution_count": 103,
     "metadata": {},
     "output_type": "execute_result"
    }
   ],
   "source": [
    "downloads / 'movie.gif'"
   ],
   "metadata": {
    "collapsed": false
   }
  },
  {
   "cell_type": "markdown",
   "source": [
    "![SegmentLocal](/Users/ericboittier/Downloads/movie.gif \"segment\")\n"
   ],
   "metadata": {
    "collapsed": false
   }
  },
  {
   "cell_type": "code",
   "execution_count": 153,
   "outputs": [],
   "source": [
    "# plot spherical harmonic in blender using the python api\n",
    "import bpy\n",
    "import numpy as np\n",
    "from scipy.special import sph_harm\n",
    "import mathutils\n",
    "\n",
    "def color_mesh():\n",
    "    # Ensure an object is selected and it is a mesh\n",
    "    norm = plt.Normalize(vmin=-1, vmax=1)\n",
    "    cmap = matplotlib.colormaps['rainbow']\n",
    "    obj = bpy.context.object\n",
    "    if obj and obj.type == 'MESH':\n",
    "        mesh = obj.data\n",
    "\n",
    "        # Create a vertex color layer if it doesn't exist\n",
    "        if not mesh.vertex_colors:\n",
    "            vertex_color_layer = mesh.vertex_colors.new(name=\"Col\")\n",
    "        else:\n",
    "            vertex_color_layer = mesh.vertex_colors.active\n",
    "\n",
    "        # Start by entering Object Mode\n",
    "        bpy.ops.object.mode_set(mode='OBJECT')\n",
    "\n",
    "        # Set the color of each vertex\n",
    "        i = 0\n",
    "        for poly in mesh.polygons:\n",
    "            for idx in poly.loop_indices:\n",
    "                # get xyz position of the vertex\n",
    "                x, y, z = mesh.vertices[mesh.loops[idx].vertex_index].co\n",
    "                r, theta, phi = getPolar(x, y, z)\n",
    "                Amp = sph_harm(m, l, phi, theta).imag if m<0 \\\n",
    "                        else sph_harm(m, l, phi, theta).real\n",
    "                # convert r (radius) to color\n",
    "                color = cmap(norm(Amp))\n",
    "                # print(Amp, color)\n",
    "                r, g, b = color[0], color[1], color[2]\n",
    "                # r, g, b = x, y, z  # Red color\n",
    "                # r, g, b = np.random.random(1), np.random.random(1), np.random.random(1)  # Red color\n",
    "                vertex_color_layer.data[i].color = (r, g, b, 1.0)\n",
    "                i += 1\n",
    "\n",
    "        # Ensure the object has a material\n",
    "        if not obj.material_slots:\n",
    "            # create a new material\n",
    "            mat = bpy.data.materials.new(name=\"VertexColorMaterial\")\n",
    "            obj.data.materials.append(mat)\n",
    "        else:\n",
    "            mat = obj.material_slots[0].material\n",
    "\n",
    "        # Enable 'Use Nodes'\n",
    "        mat.use_nodes = True\n",
    "        nodes = mat.node_tree.nodes\n",
    "\n",
    "        # Clear all nodes to start clean\n",
    "        nodes.clear()\n",
    "\n",
    "        # Create a Principled BSDF shader node\n",
    "        shader_node = nodes.new(type='ShaderNodeBsdfPrincipled')\n",
    "\n",
    "        # Create a Vertex Color node and link it to the Principled BSDF\n",
    "        vertex_color_node = nodes.new(type='ShaderNodeVertexColor')\n",
    "        vertex_color_node.layer_name = vertex_color_layer.name  # use the correct vertex color layer\n",
    "        mat.node_tree.links.new(vertex_color_node.outputs['Color'], shader_node.inputs['Base Color'])\n",
    "\n",
    "        # Add an Output node and link it to the shader\n",
    "        output_node = nodes.new('ShaderNodeOutputMaterial')\n",
    "        mat.node_tree.links.new(shader_node.outputs['BSDF'], output_node.inputs['Surface'])\n",
    "\n",
    "        # Update the mesh\n",
    "        mesh.update()\n",
    "    else:\n",
    "        print(\"Selected object is not a mesh or no object is selected.\")\n",
    "\n",
    "\n",
    "def color(color=\"RED\"):\n",
    "    obj =  bpy.context.active_object\n",
    "    # obj.name = str(l)+\"_\"+str(m)\n",
    "    mat = bpy.data.materials.new(color)\n",
    "    mat.use_nodes = True\n",
    "    tree = mat.node_tree\n",
    "    nodes = tree.nodes\n",
    "    # bsdf = nodes[\"Principled BSDF\"]\n",
    "    # Get the Principled BSDF node\n",
    "    bsdf = nodes.get(\"Principled BSDF\")\n",
    "    if bsdf is not None:\n",
    "        # Set the color to black\n",
    "        bsdf.inputs['Base Color'].default_value = (0.0, 0.0, 0.0, 1)\n",
    "    else:\n",
    "        print(\"Principled BSDF node not found\")\n",
    "    mat.diffuse_color = (float(.5),0.0,1.0,1)\n",
    "    obj.active_material = mat\n",
    "\n",
    "def getCart(r, theta, phi):\n",
    "    x = r * np.cos(phi) * np.sin(theta)\n",
    "    y = r * np.sin(phi) * np.sin(theta)\n",
    "    z = r * np.cos(theta)\n",
    "    return (x, y, z)\n",
    "\n",
    "def getPolar(x, y, z):\n",
    "    # Round out small errors from the trigonometric functions\n",
    "    x, y, z = round(x, 5), round(y, 5), round(z, 5)\n",
    "\n",
    "    r = np.sqrt(x**2 + y**2 + z**2)\n",
    "    theta = np.arccos(z/r) #[0,pi]\n",
    "    xy = round(r * np.sin(theta), 5)\n",
    "    if xy == 0.0:\n",
    "        phi = 0.0\n",
    "    else:\n",
    "        if x >= 0:\n",
    "            phi = np.arcsin(y/xy) #[-1/2pi, 1/2pi]\n",
    "        else:# x < 0:\n",
    "            phi = np.arcsin(y/xy) #[-1/2pi, 1/2pi]\n",
    "            phi = np.pi - phi\n",
    "    return (r, theta, phi)\n",
    "\n",
    "def camera_to_points(object_name=\"3_1\"):\n",
    "    #  set camera to fit all points\n",
    "    bpy.ops.object.select_all(action=\"DESELECT\")\n",
    "    bpy.data.objects[object_name].select_set(True)\n",
    "    bpy.ops.view3d.camera_to_view_selected()"
   ],
   "metadata": {
    "collapsed": false
   }
  },
  {
   "cell_type": "code",
   "execution_count": 177,
   "outputs": [],
   "source": [
    "\n",
    "l, m = 8,1\n",
    "radius = 1\n",
    "\n",
    "def plot_sph(l, m, radius):\n",
    "    remove_all()\n",
    "\n",
    "    # add a sphere\n",
    "    bpy.ops.mesh.primitive_uv_sphere_add(segments=128, ring_count=128, \\\n",
    "                   radius=radius, calc_uvs=True, enter_editmode=False, \\\n",
    "                   align='WORLD', location=(0.0, 0.0, 0.0), \\\n",
    "                   rotation=(0.0, 0.0, 0.0), scale=(1.,1.,1.))\n",
    "    bpy.ops.transform.translate(value=(0,0,0))\n",
    "\n",
    "    # add material to object\n",
    "    bpy.ops.object.material_slot_add()\n",
    "    obj =  bpy.context.active_object\n",
    "    obj.name = str(l)+\"_\"+str(m)\n",
    "\n",
    "    # color the mesh\n",
    "    color()\n",
    "    color_mesh()\n",
    "\n",
    "    # Make the basis shape key at minimum amplitude\n",
    "    sk_basis = obj.shape_key_add(name='Basis')\n",
    "    sk_basis.interpolation = 'KEY_LINEAR'\n",
    "    obj.data.shape_keys.use_relative = True#False\n",
    "    # The next shape key is at max amplitude\n",
    "    sk2 = obj.shape_key_add(name='Deform')\n",
    "    sk2.interpolation = 'KEY_LINEAR'\n",
    "\n",
    "    for i in range(len(obj.data.vertices)):\n",
    "        x, y, z = obj.data.vertices[i].co\n",
    "        r, theta, phi = getPolar(x, y, z)\n",
    "        Amp = sph_harm(m, l, phi, theta).imag if m<0 \\\n",
    "                else sph_harm(m, l, phi, theta).real\n",
    "\n",
    "        VertMin = mathutils.Vector(getCart(r - Amp, theta, phi))\n",
    "        VertMax = mathutils.Vector(getCart(r + Amp, theta, phi))\n",
    "        sk_basis.data[i].co = VertMin\n",
    "        sk2.data[i].co = VertMax\n",
    "\n",
    "    #create bounding box around the shape\n",
    "    bpy.ops.mesh.primitive_cube_add(size=3*radius, enter_editmode=False,\n",
    "                                    align='WORLD', location=(0.0, 0.0, 0.0), scale=(1, 1, 1))\n",
    "    # make the cube wireframe\n",
    "    bpy.ops.object.modifier_add(type='WIREFRAME')\n",
    "    bpy.context.object.modifiers[\"Wireframe\"].thickness = 0.05\n",
    "\n",
    "    # color_mesh()\n",
    "    color(color=\"BLUE\")\n",
    "    add_camera()\n",
    "    camera_to_points(object_name=\"Cube\")\n",
    "    # select everything except the camera\n",
    "    bpy.ops.object.select_all(action='DESELECT')\n",
    "    bpy.data.objects[\"Cube\"].select_set(True)\n",
    "    bpy.data.objects[f\"{l}_{m}\"].select_set(True)\n",
    "    # rotate the camera for an isomorphic view\n",
    "    # bpy.ops.transform.rotate(value=45, orient_axis='Y', orient_type='GLOBAL')\n",
    "    # bpy.ops.transform.rotate(value=45, orient_axis='X', orient_type='GLOBAL')\n",
    "    # bpy.ops.transform.rotate(value=45, orient_axis='Z', orient_type='GLOBAL')\n",
    "    # bpy.ops.transform.translate(value=(0, 0, 1), orient_type='GLOBAL')\n",
    "    camera_to_points(object_name=\"Cube\")\n",
    "    render(f\"{l}_{m}\")\n"
   ],
   "metadata": {
    "collapsed": false
   }
  },
  {
   "cell_type": "code",
   "execution_count": 178,
   "outputs": [
    {
     "data": {
      "text/plain": "[bpy.data.objects['0_0'], bpy.data.objects['Camera'], bpy.data.objects['Cube']]"
     },
     "execution_count": 178,
     "metadata": {},
     "output_type": "execute_result"
    }
   ],
   "source": [
    "list(bpy.data.objects)"
   ],
   "metadata": {
    "collapsed": false
   }
  },
  {
   "cell_type": "code",
   "execution_count": 181,
   "outputs": [],
   "source": [
    "for l in range(0, 8):\n",
    "    if l == 0:\n",
    "        for m in range(0, 1):\n",
    "            plot_sph(l, m, radius)\n",
    "    else:\n",
    "        for m in range(-l, l+1):\n",
    "            plot_sph(l, m, radius)\n"
   ],
   "metadata": {
    "collapsed": false
   }
  },
  {
   "cell_type": "code",
   "execution_count": 167,
   "outputs": [],
   "source": [
    "?bpy.ops.mesh.primitive_uv_sphere_add"
   ],
   "metadata": {
    "collapsed": false
   }
  },
  {
   "cell_type": "code",
   "execution_count": null,
   "outputs": [],
   "source": [
    "import bpy\n",
    "import bmesh\n",
    "import math\n",
    "import numpy as np\n",
    "from scipy.special import sph_harm\n",
    "\n",
    "def create_spherical_harmonic_mesh(l, m, resolution):\n",
    "    remove_all()\n",
    "    mesh = bpy.data.meshes.new('SphericalHarmonicMesh')\n",
    "    obj = bpy.data.objects.new('SphericalHarmonic', mesh)\n",
    "    bpy.context.collection.objects.link(obj)\n",
    "    bm = bmesh.new()\n",
    "\n",
    "    for i in range(resolution):\n",
    "        theta = math.pi * (i / resolution)\n",
    "        for j in range(2 * resolution):\n",
    "            phi = 2 * math.pi * (j / (2 * resolution))\n",
    "            # Using the real part of the spherical harmonics\n",
    "            r = abs(sph_harm(m, l, phi, theta).real)\n",
    "            x = r * math.sin(theta) * math.cos(phi)\n",
    "            y = r * math.sin(theta) * math.sin(phi)\n",
    "            z = r * math.cos(theta)\n",
    "            bm.verts.new((x, y, z))\n",
    "\n",
    "    bm.verts.ensure_lookup_table()\n",
    "    for i in range(len(bm.verts) - 2 * resolution):\n",
    "        for j in range(2 * resolution - 1):\n",
    "            try:\n",
    "                v1 = bm.verts[i * 2 * resolution + j]\n",
    "                v2 = bm.verts[i * 2 * resolution + j + 1]\n",
    "                v3 = bm.verts[(i + 1) * 2 * resolution + j]\n",
    "                v4 = bm.verts[(i + 1) * 2 * resolution + j + 1]\n",
    "                bm.faces.new((v1, v2, v4, v3))\n",
    "            except:\n",
    "                pass\n",
    "\n",
    "    bm.to_mesh(mesh)\n",
    "    bm.free()\n",
    "\n",
    "# Example usage: visualize the real part of the spherical harmonic Y_2^1\n",
    "create_spherical_harmonic_mesh(2, 1, 100)\n"
   ],
   "metadata": {
    "collapsed": false
   }
  }
 ],
 "metadata": {
  "kernelspec": {
   "name": "blender",
   "language": "python",
   "display_name": "blender"
  },
  "language_info": {
   "codemirror_mode": {
    "name": "ipython",
    "version": 2
   },
   "file_extension": ".py",
   "mimetype": "text/x-python",
   "name": "python",
   "nbconvert_exporter": "python",
   "pygments_lexer": "ipython2",
   "version": "2.7.6"
  }
 },
 "nbformat": 4,
 "nbformat_minor": 0
}
